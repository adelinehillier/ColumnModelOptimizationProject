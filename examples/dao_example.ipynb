{
 "cells": [
  {
   "cell_type": "code",
   "execution_count": 1,
   "metadata": {},
   "outputs": [
    {
     "name": "stderr",
     "output_type": "stream",
     "text": [
      "┌ Info: Recompiling stale cache file /Users/gregorywagner/.julia/compiled/v1.0/Dao/pfxnO.ji for Dao [923aee56-57d8-11e9-2f0d-e3e88a113be6]\n",
      "└ @ Base loading.jl:1187\n"
     ]
    }
   ],
   "source": [
    "using Pkg; Pkg.activate(\"..\")\n",
    "\n",
    "using Dao, PyPlot, Statistics"
   ]
  },
  {
   "cell_type": "markdown",
   "metadata": {},
   "source": [
    "# The `LossFunction` in `Dao.jl`\n",
    "\n",
    "First, we construct a loss function, which computes the 'likelihood' --- or 'error' associated with an 'event' (or, in the case of a turbulence model, associated with the output of a turbulence model run with given parameters). Here we call the parameter $x$. The loss function takes three arguments: the parameter or array of parameters, `x`, a `model`, and `data` against which the model output is compared.\n",
    "\n",
    "For this example, we build a system in which the model is a probability distribution $p(x)$, independent from any data.\n",
    "We can interpret the probability distribution as modeling the likelihood that the parameter `x` is the 'true' parameter that minimizes model error.\n",
    "\n",
    "## A simple probability distribution\n",
    "\n",
    "We use the probability distribution\n",
    "\n",
    "$$ p(x) = \\frac{\\mathrm{e}^{-(x+2)^2/2} + \\mathrm{e}^{-(x-2)^2/2}}{2 \\sqrt{2\\pi}} $$"
   ]
  },
  {
   "cell_type": "code",
   "execution_count": null,
   "metadata": {},
   "outputs": [],
   "source": [
    "g(x) = exp(-x^2/2)\n",
    "pdf(x) = (g(x+4) + g(x-4)) / (2*√(2π))\n",
    "\n",
    "sample_x = range(-10, stop=10, step=0.01)\n",
    "\n",
    "fig, axs = subplots()\n",
    "\n",
    "plot(sample_x, pdf.(sample_x), label=L\"p(x)\")\n",
    "\n",
    "title(\"A simple probability distribution\")\n",
    "ylim(0, 0.4)\n",
    "xlabel(L\"x\")\n",
    "ylabel(L\"p(x)\")\n",
    "[axs.spines[spine].set_visible(false) for spine in (\"top\", \"right\")]\n",
    "legend()\n",
    "\n",
    "@show minimum(pdf.(sample_x))"
   ]
  },
  {
   "cell_type": "markdown",
   "metadata": {},
   "source": [
    "## Choosing the loss function\n",
    "\n",
    "We are free to choose the loss function as some sensible function of the model output.\n",
    "Here, we define the loss as the negative log of the probability distribution, so that\n",
    "\n",
    "$$ V(x, b) = - \\log \\big [ p(x) + b \\big ] $$.\n",
    "\n",
    "Note that the mininum of the pdf is $0$, so as long s $b > 0$, the loss function is well-defined."
   ]
  },
  {
   "cell_type": "code",
   "execution_count": null,
   "metadata": {},
   "outputs": [],
   "source": [
    "struct PDFModel\n",
    "    pdf :: Function\n",
    "end\n",
    "\n",
    "compute_loss(x, model, data) = -log(model.pdf(x))\n",
    "\n",
    "model = PDFModel(pdf)\n",
    "loss = LossFunction(model, nothing, compute_loss, 10.0)\n",
    "\n",
    "fig, axs = subplots()\n",
    "\n",
    "plot(sample_x, pdf.(sample_x), label=L\"p(x)\")\n",
    "plot(sample_x, loss.(sample_x)/loss.scale, \"--\", label=L\"V(p)/r\")\n",
    "\n",
    "title(\"A simple probability distribution\")\n",
    "xlabel(L\"x\")\n",
    "ylabel(L\"p(x)\")\n",
    "[axs.spines[spine].set_visible(false) for spine in (\"top\", \"right\")]\n",
    "legend()"
   ]
  },
  {
   "cell_type": "markdown",
   "metadata": {},
   "source": []
  },
  {
   "cell_type": "markdown",
   "metadata": {},
   "source": [
    "# An example `MarkovChain`"
   ]
  },
  {
   "cell_type": "code",
   "execution_count": null,
   "metadata": {},
   "outputs": [],
   "source": [
    "initial_state = MarkovLink(loss, 8.0)\n",
    "perturbation = NormalPerturbation(8.0)\n",
    "markov_chain = MarkovChain(10^4, initial_state, loss, perturbation)\n",
    "\n",
    "p_obs = errors(markov_chain)\n",
    "x_obs = params(markov_chain)\n",
    "\n",
    "plot(x_obs, p_obs, \"o\", fillstyle=\"none\")\n",
    "plot(sample_x, loss.(sample_x))"
   ]
  },
  {
   "cell_type": "code",
   "execution_count": null,
   "metadata": {},
   "outputs": [],
   "source": []
  }
 ],
 "metadata": {
  "kernelspec": {
   "display_name": "Julia 1.0.1",
   "language": "julia",
   "name": "julia-1.0"
  },
  "language_info": {
   "file_extension": ".jl",
   "mimetype": "application/julia",
   "name": "julia",
   "version": "1.0.1"
  }
 },
 "nbformat": 4,
 "nbformat_minor": 2
}
