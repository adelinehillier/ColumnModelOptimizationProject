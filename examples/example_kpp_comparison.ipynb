{
 "cells": [
  {
   "cell_type": "markdown",
   "metadata": {},
   "source": [
    "# Comparison of stock KPP with LES for 4 canonical cases\n",
    "\n",
    "In this notebook we compare KPP with LES data for the four canonical cases:\n",
    "\n",
    "1. Free convection\n",
    "2. Wind-driven shear mixing with neutral buoyancy forcing\n",
    "3. Wind-driven shear mixing with destabilizing buoyancy forcing\n",
    "4. Wind-driven shear mixing with stabilizing buoyancy forcing"
   ]
  },
  {
   "cell_type": "code",
   "execution_count": 1,
   "metadata": {},
   "outputs": [
    {
     "name": "stderr",
     "output_type": "stream",
     "text": [
      "┌ Info: Recompiling stale cache file /Users/gregorywagner/.julia/compiled/v1.1/ColumnModelOptimizationProject/HEzqG.ji for ColumnModelOptimizationProject [8137535c-6844-11e9-1caa-ffc4fab9c8ab]\n",
      "└ @ Base loading.jl:1184\n"
     ]
    },
    {
     "data": {
      "text/plain": [
       "Dict{String,String} with 4 entries:\n",
       "  \"shear_unstable\"  => \"../data/idealized/shear_unstable/wind_stress_N256_tau0.…\n",
       "  \"shear_stable\"    => \"../data/idealized/shear_stable/wind_stress_N256_tau0.04…\n",
       "  \"free_convection\" => \"../data/idealized/free_convection/wind_stress_N256_tau0…\n",
       "  \"shear_neutral\"   => \"../data/idealized/shear_neutral/wind_stress_N256_tau0.1…"
      ]
     },
     "execution_count": 1,
     "metadata": {},
     "output_type": "execute_result"
    }
   ],
   "source": [
    "using Pkg; Pkg.activate(\"..\")\n",
    "\n",
    "using \n",
    "    ColumnModelOptimizationProject, \n",
    "    ColumnModelOptimizationProject.KPPOptimization, \n",
    "    OceanTurb,\n",
    "    Printf\n",
    "\n",
    "datadir = joinpath(\"..\", \"data\", \"idealized\")\n",
    "\n",
    "cases = [\"free_convection\", \"shear_neutral\", \"shear_unstable\", \"shear_stable\"]\n",
    "\n",
    "dirs = Dict((c, joinpath(datadir, c)) for c in cases)\n",
    "\n",
    "examples = Dict(\n",
    "    \"free_convection\" => \"wind_stress_N256_tau0_Q-75_dTdz0.01_k0.0001_dt0.25_days6_timeseries.jld2\",\n",
    "    \"shear_neutral\"   => \"wind_stress_N256_tau0.1_Q0_dTdz0.001_k0.0001_dt0.25_days6_timeseries.jld2\",\n",
    "    \"shear_unstable\"  => \"wind_stress_N256_tau0.1_Q-75_dTdz0.01_k0.0001_dt0.25_days6_timeseries.jld2\",\n",
    "    \"shear_stable\"    => \"wind_stress_N256_tau0.04_Q10_dTdz0.01_k0.0001_dt0.25_days6_timeseries.jld2\" )\n",
    "\n",
    "examplepaths = Dict((c, joinpath(dirs[c], examples[c])) for c in cases)"
   ]
  },
  {
   "cell_type": "code",
   "execution_count": 2,
   "metadata": {},
   "outputs": [
    {
     "ename": "UndefVarError",
     "evalue": "UndefVarError: model not defined",
     "output_type": "error",
     "traceback": [
      "UndefVarError: model not defined",
      "",
      "Stacktrace:",
      " [1] visualize_realization(::ShearNeutralParameters{Float64}, ::ColumnModel{OceanTurb.KPP.Model{BackwardEulerTimestepper{OceanTurb.KPP.Solution{Array{Float64,1},UniformGrid{Float64,StepRangeLen{Float64,Base.TwicePrecision{Float64},Base.TwicePrecision{Float64}}},Float64},Array{LinearAlgebra.Tridiagonal{Float64,Array{Float64,1}},1},OceanTurb.KPP.Accessory{Function},OceanTurb.KPP.Accessory{Function}},UniformGrid{Float64,StepRangeLen{Float64,Base.TwicePrecision{Float64},Base.TwicePrecision{Float64}}},Float64},Float64}, ::ColumnData{Float64,UniformGrid{Float64,StepRangeLen{Float64,Base.TwicePrecision{Float64},Base.TwicePrecision{Float64}}},Constants{Float64},CellField{Array{Float64,1},UniformGrid{Float64,StepRangeLen{Float64,Base.TwicePrecision{Float64},Base.TwicePrecision{Float64}}},Float64},3}) at /Users/gregorywagner/Projects/ColumnModelOptimizationProject.jl/src/models/kpp_visualization.jl:15",
      " [2] top-level scope at ./In[2]:8"
     ]
    }
   ],
   "source": [
    "for N in [10, 20, 50, 100, 200]\n",
    "    for case in cases\n",
    "        \n",
    "        column_data = ColumnData(examplepaths[case]; targets=(12, 22, 32))\n",
    "        column_model = KPPOptimization.ColumnModel(column_data, 10*minute, N=N)\n",
    "        default_params = DefaultFreeParameters(ShearNeutralParameters)\n",
    "\n",
    "        fig, axs = visualize_realization(default_params, column_model, column_data)\n",
    "        fig.suptitle(replace(case, \"_\" => \" \") * @sprintf(\" with \\$ N = %d \\$\", N))\n",
    "        fig.show()\n",
    "        \n",
    "        fig.tight_layout()\n",
    "        fig.savefig(joinpath(\"..\", \"assets\", case * \"_kpp_les_comparison_N$N.png\"), dpi=480)\n",
    "    end\n",
    "end"
   ]
  },
  {
   "cell_type": "code",
   "execution_count": null,
   "metadata": {},
   "outputs": [],
   "source": []
  },
  {
   "cell_type": "code",
   "execution_count": null,
   "metadata": {},
   "outputs": [],
   "source": []
  }
 ],
 "metadata": {
  "kernelspec": {
   "display_name": "Julia 1.1.0",
   "language": "julia",
   "name": "julia-1.1"
  },
  "language_info": {
   "file_extension": ".jl",
   "mimetype": "application/julia",
   "name": "julia",
   "version": "1.0.1"
  }
 },
 "nbformat": 4,
 "nbformat_minor": 2
}
