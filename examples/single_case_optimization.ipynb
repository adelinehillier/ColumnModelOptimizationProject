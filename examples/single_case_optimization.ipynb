{
 "cells": [
  {
   "cell_type": "code",
   "execution_count": 1,
   "metadata": {},
   "outputs": [],
   "source": [
    "using Pkg; Pkg.activate(\"..\")\n",
    "\n",
    "using PyPlot, Printf, Statistics, OceanTurb, Dao, JLD2,\n",
    "        ColumnModelOptimizationProject, ColumnModelOptimizationProject.KPPOptimization"
   ]
  },
  {
   "cell_type": "code",
   "execution_count": 2,
   "metadata": {},
   "outputs": [
    {
     "name": "stdout",
     "output_type": "stream",
     "text": [
      "propertynames(defaults) = (:CRi, :CKE, :CNL, :Cτ, :Cstab, :Cunst, :Cb_U, :Cb_T, :Cd_U, :Cd_T)\n"
     ]
    },
    {
     "data": {
      "text/plain": [
       "(:CRi, :CKE, :CNL, :Cτ, :Cstab, :Cunst, :Cb_U, :Cb_T, :Cd_U, :Cd_T)"
      ]
     },
     "execution_count": 2,
     "metadata": {},
     "output_type": "execute_result"
    }
   ],
   "source": [
    "model_N = 30\n",
    "model_dt = 10*minute\n",
    "initial_data = 1 \n",
    "target_data = (4, 7, 10) \n",
    "case = \"unstable_weak\"\n",
    "\n",
    "datadir = joinpath(\"..\", \"data\", \"perfect_model_experiment\")\n",
    "filepath = joinpath(datadir, case * \".jld2\")\n",
    "data = ColumnData(filepath; initial=initial_data, targets=target_data)\n",
    "model = KPPOptimization.ColumnModel(data, model_dt, N=model_N)\n",
    "\n",
    "# Pick some parameters\n",
    "defaults = DefaultFreeParameters(BasicParameters)\n",
    "\n",
    "@show propertynames(defaults)"
   ]
  },
  {
   "cell_type": "code",
   "execution_count": 3,
   "metadata": {},
   "outputs": [
    {
     "name": "stdout",
     "output_type": "stream",
     "text": [
      "Ratio of velocity error to temperature error: 6.2906\n"
     ]
    }
   ],
   "source": [
    "# Obtain an estimate of the relative error in the temperature and velocity fields\n",
    "test_nll_temperature = NegativeLogLikelihood(model, data, temperature_loss)\n",
    "test_nll_velocity = NegativeLogLikelihood(model, data, velocity_loss)\n",
    "test_link_temperature = MarkovLink(test_nll_temperature, defaults)\n",
    "test_link_velocity = MarkovLink(test_nll_velocity, defaults)\n",
    "\n",
    "error_ratio = test_link_velocity.error / test_link_temperature.error\n",
    "@printf \"Ratio of velocity error to temperature error: %.4f\\n\" error_ratio \n",
    "\n",
    "# Build the weighted NLL, normalizing temperature error relative to velocity error.\n",
    "weights = (1, 1, 10*round(Int, error_ratio), 0)\n",
    "nll = NegativeLogLikelihood(model, data, weighted_fields_loss, weights=weights);"
   ]
  },
  {
   "cell_type": "code",
   "execution_count": 4,
   "metadata": {},
   "outputs": [
    {
     "name": "stdout",
     "output_type": "stream",
     "text": [
      "nll.scale = first_link.error * 0.5 = 0.03447890171006672\n",
      "chain.acceptance = 0.86\n"
     ]
    },
    {
     "data": {
      "text/plain": [
       "0.86"
      ]
     },
     "execution_count": 4,
     "metadata": {},
     "output_type": "execute_result"
    }
   ],
   "source": [
    "# Obtain the first link in the Markov chain\n",
    "first_link = MarkovLink(nll, defaults)\n",
    "@show nll.scale = first_link.error * 0.5 \n",
    "\n",
    "# Use a non-negative normal perturbation\n",
    "std = DefaultStdFreeParameters(0.05, typeof(defaults))\n",
    "sampler = MetropolisSampler(NormalPerturbation(std))\n",
    "\n",
    "ninit = 10^2\n",
    "chain = MarkovChain(ninit, first_link, nll, sampler)\n",
    "@show chain.acceptance "
   ]
  },
  {
   "cell_type": "code",
   "execution_count": 5,
   "metadata": {},
   "outputs": [
    {
     "name": "stdout",
     "output_type": "stream",
     "text": [
      "               length | 1100\n",
      "           acceptance | 0.797272727\n",
      " initial scaled error | 2.000000000\n",
      " optimal scaled error | 0.936899762\n",
      "\n",
      "Optimal parameters:\n",
      "chain[1] = MarkovLink{Float64,BasicParameters{Float64}}([0.3, 4.32, 6.33, 0.4, 2.0, 6.4, 0.599, 1.36, 0.5, 2.5], 0.06895780342013344)\n",
      "optimal(chain) = MarkovLink{Float64,BasicParameters{Float64}}([0.167128, 11.8146, 7.05515, 0.387237, 0.998389, 15.2533, 0.642754, 5.08637, 0.134183, 2.5258], 0.032303274816019766)\n",
      "chain[end] = MarkovLink{Float64,BasicParameters{Float64}}([0.176989, 10.399, 7.02167, 0.492112, 0.288582, 12.1095, 0.9576, 4.1824, 0.164858, 3.46927], 0.060222350565814604)\n",
      "               length | 2100\n",
      "           acceptance | 0.825714286\n",
      " initial scaled error | 2.000000000\n",
      " optimal scaled error | 0.884649359\n",
      "\n",
      "Optimal parameters:\n",
      "chain[1] = MarkovLink{Float64,BasicParameters{Float64}}([0.3, 4.32, 6.33, 0.4, 2.0, 6.4, 0.599, 1.36, 0.5, 2.5], 0.06895780342013344)\n",
      "optimal(chain) = MarkovLink{Float64,BasicParameters{Float64}}([0.191087, 9.47628, 2.512, 0.373435, 3.68462, 12.4959, 0.563582, 3.77479, 0.39287, 2.16266], 0.03050173828169474)\n",
      "chain[end] = MarkovLink{Float64,BasicParameters{Float64}}([0.25502, 1.23512, 4.13126, 0.611976, 3.61748, 10.2666, 0.084789, 2.79393, 0.265716, 4.18592], 0.11258187461893325)\n",
      "               length | 3100\n",
      "           acceptance | 0.831935484\n",
      " initial scaled error | 2.000000000\n",
      " optimal scaled error | 0.884649359\n",
      "\n",
      "Optimal parameters:\n",
      "chain[1] = MarkovLink{Float64,BasicParameters{Float64}}([0.3, 4.32, 6.33, 0.4, 2.0, 6.4, 0.599, 1.36, 0.5, 2.5], 0.06895780342013344)\n",
      "optimal(chain) = MarkovLink{Float64,BasicParameters{Float64}}([0.191087, 9.47628, 2.512, 0.373435, 3.68462, 12.4959, 0.563582, 3.77479, 0.39287, 2.16266], 0.03050173828169474)\n",
      "chain[end] = MarkovLink{Float64,BasicParameters{Float64}}([0.22902, 8.95695, 3.34023, 1.71978, 2.94063, 12.4075, 0.373498, 2.0291, 0.384695, 3.9273], 0.14374463422637734)\n",
      "               length | 4100\n",
      "           acceptance | 0.826829268\n",
      " initial scaled error | 2.000000000\n",
      " optimal scaled error | 0.884649359\n",
      "\n",
      "Optimal parameters:\n",
      "chain[1] = MarkovLink{Float64,BasicParameters{Float64}}([0.3, 4.32, 6.33, 0.4, 2.0, 6.4, 0.599, 1.36, 0.5, 2.5], 0.06895780342013344)\n",
      "optimal(chain) = MarkovLink{Float64,BasicParameters{Float64}}([0.191087, 9.47628, 2.512, 0.373435, 3.68462, 12.4959, 0.563582, 3.77479, 0.39287, 2.16266], 0.03050173828169474)\n",
      "chain[end] = MarkovLink{Float64,BasicParameters{Float64}}([0.500261, 2.03116, 3.34375, 2.40419, 5.16193, 14.9858, 1.26819, 0.725541, 1.19062, 0.115819], 0.1560328545972791)\n"
     ]
    }
   ],
   "source": [
    "dsave = 10^3\n",
    "chainname = \"test_markov_chain\"\n",
    "chainpath = \"$chainname.jld2\"\n",
    "@save chainpath chain\n",
    "\n",
    "tstart = time()\n",
    "for i = 1:4\n",
    "    tint = @elapsed extend!(chain, dsave)\n",
    "    println(status(chain))\n",
    "\n",
    "    @sprintf(\"Tc: %.2f seconds. Elapsed wall time: %.4f minutes.\", tint, (time() - tstart)/60)\n",
    "    println(\"Optimal parameters:\")\n",
    "    @show chain[1]\n",
    "    @show optimal(chain)\n",
    "    @show chain[end]\n",
    "\n",
    "    oldchainpath = chainname * \"_old.jld2\"\n",
    "    mv(chainpath, oldchainpath, force=true)\n",
    "    @save chainpath chain\n",
    "    rm(oldchainpath)\n",
    "end"
   ]
  }
 ],
 "metadata": {
  "kernelspec": {
   "display_name": "Julia 1.1.0",
   "language": "julia",
   "name": "julia-1.1"
  },
  "language_info": {
   "file_extension": ".jl",
   "mimetype": "application/julia",
   "name": "julia",
   "version": "1.1.0"
  }
 },
 "nbformat": 4,
 "nbformat_minor": 2
}
