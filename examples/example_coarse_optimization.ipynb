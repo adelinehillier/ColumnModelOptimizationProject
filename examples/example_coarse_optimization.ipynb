{
 "cells": [
  {
   "cell_type": "markdown",
   "metadata": {},
   "source": [
    "# Optimization of a coarse KPP model\n",
    "\n",
    "In this notebook we demonstrate the optimization of a coarse KPP model.\n",
    "\n",
    "1. Free convection\n",
    "2. Wind-driven shear mixing with neutral buoyancy forcing\n",
    "3. Wind-driven shear mixing with destabilizing buoyancy forcing\n",
    "4. Wind-driven shear mixing with stabilizing buoyancy forcing"
   ]
  },
  {
   "cell_type": "code",
   "execution_count": null,
   "metadata": {},
   "outputs": [
    {
     "name": "stderr",
     "output_type": "stream",
     "text": [
      "┌ Info: Recompiling stale cache file /Users/gregorywagner/.julia/compiled/v1.0/ColumnModelOptimizationProject/HEzqG.ji for ColumnModelOptimizationProject [8137535c-6844-11e9-1caa-ffc4fab9c8ab]\n",
      "└ @ Base loading.jl:1187\n"
     ]
    }
   ],
   "source": [
    "using Pkg; Pkg.activate(\"..\")\n",
    "\n",
    "using OceanTurb, ColumnModelOptimizationProject, PyPlot, Printf, Dao, ColumnModelOptimizationProject.KPPOptimization\n",
    "\n",
    "datadir = joinpath(\"..\", \"data\", \"idealized\")\n",
    "cases = [\"free_convection\", \"shear_neutral\", \"shear_unstable\", \"shear_stable\"]\n",
    "dirs = Dict((c, joinpath(datadir, c)) for c in cases)\n",
    "\n",
    "examples = Dict(\n",
    "    \"free_convection\" => \"wind_stress_N256_tau0_Q-75_dTdz0.01_k0.0001_dt0.25_days6_timeseries.jld2\",\n",
    "    \"shear_neutral\"   => \"wind_stress_N256_tau0.1_Q0_dTdz0.001_k0.0001_dt0.25_days6_timeseries.jld2\",\n",
    "    \"shear_unstable\"  => \"wind_stress_N256_tau0.1_Q-75_dTdz0.01_k0.0001_dt0.25_days6_timeseries.jld2\",\n",
    "    \"shear_stable\"    => \"wind_stress_N256_tau0.04_Q10_dTdz0.01_k0.0001_dt0.25_days6_timeseries.jld2\" )\n",
    "\n",
    "examplepaths = Dict((c, joinpath(dirs[c], examples[c])) for c in cases)"
   ]
  },
  {
   "cell_type": "markdown",
   "metadata": {},
   "source": [
    "# The model and the data\n",
    "\n",
    "First we instantiate our column data and our column model."
   ]
  },
  {
   "cell_type": "code",
   "execution_count": null,
   "metadata": {},
   "outputs": [],
   "source": [
    "column_data = ColumnData(examplepaths[\"shear_neutral\"]);\n",
    "column_model = KPPOptimization.ColumnModel(column_data, 10*minute, N=10)\n",
    "\n",
    "[ plot(column_data.T[i], label=@sprintf(\"\\$ t = %0.2f \\$ days\", column_data.t[i]/day)) for i in (2, 10, 18, 26) ]\n",
    "xlabel(\"Temperature (Kelvin)\")\n",
    "ylabel(L\"z \\, \\mathrm{(meters)}\")\n",
    "title(\"Some LES data\")\n",
    "legend()\n",
    "removespines(\"top\", \"right\")"
   ]
  },
  {
   "cell_type": "markdown",
   "metadata": {},
   "source": [
    "# The 'Negative Log Likelihood' function\n",
    "\n",
    "Next we define a simple function to compute the negative log likelihood, as well as a\n",
    "`sampler` that uses the Metropolis algorithm with normally distributed random perturbations\n",
    "for proposal parameter vectors."
   ]
  },
  {
   "cell_type": "code",
   "execution_count": null,
   "metadata": {},
   "outputs": [],
   "source": [
    "nll = NegativeLogLikelihood(column_model, column_data, compute_temperature_nll, 1)\n",
    "sampler = MetropolisSampler(NormalPerturbation([0.05*p for p in default_params]));"
   ]
  },
  {
   "cell_type": "markdown",
   "metadata": {},
   "source": [
    "# Compute the Markov Chain"
   ]
  },
  {
   "cell_type": "code",
   "execution_count": null,
   "metadata": {},
   "outputs": [],
   "source": [
    "default_params = DefaultFreeParameters(ShearNeutralParameters)\n",
    "first_link = MarkovLink(nll, default_params)\n",
    "\n",
    "chain = MarkovChain(100, first_link, nll, sampler);"
   ]
  },
  {
   "cell_type": "code",
   "execution_count": 5,
   "metadata": {},
   "outputs": [],
   "source": []
  }
 ],
 "metadata": {
  "kernelspec": {
   "display_name": "Julia 1.0.1",
   "language": "julia",
   "name": "julia-1.0"
  },
  "language_info": {
   "file_extension": ".jl",
   "mimetype": "application/julia",
   "name": "julia",
   "version": "1.0.1"
  }
 },
 "nbformat": 4,
 "nbformat_minor": 2
}
