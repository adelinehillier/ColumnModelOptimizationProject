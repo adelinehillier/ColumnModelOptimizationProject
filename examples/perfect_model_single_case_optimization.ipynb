{
 "cells": [
  {
   "cell_type": "markdown",
   "metadata": {},
   "source": [
    "# 'Single Case' optimization\n",
    "\n",
    "Here we demonstrate the optimization of KPP in a perfect model setting for a single 'simple flux' case."
   ]
  },
  {
   "cell_type": "code",
   "execution_count": 1,
   "metadata": {},
   "outputs": [],
   "source": [
    "using Pkg; Pkg.activate(\"..\")\n",
    "\n",
    "using PyPlot, Printf, Statistics, OceanTurb, Dao, JLD2,\n",
    "        ColumnModelOptimizationProject, ColumnModelOptimizationProject.KPPOptimization"
   ]
  },
  {
   "cell_type": "code",
   "execution_count": 7,
   "metadata": {},
   "outputs": [
    {
     "name": "stdout",
     "output_type": "stream",
     "text": [
      "We will optimize the following parameters:\n",
      "propertynames(defaults) = (:CRi, :CKE, :CNL, :Cτ, :Cstab, :Cunst, :Cb_U, :Cb_T, :Cd_U, :Cd_T)\n"
     ]
    }
   ],
   "source": [
    "     model_N = 30                # Model resolution. Perfect model resolution is N=600\n",
    "    model_dt = 10*minute         # Model timestep. Perfect model timestep is 1 minute.\n",
    "initial_data = 1                 # Choose initial condition for forward runs\n",
    " target_data = (4, 7, 10)        # Target samples of saved data for model-data comparison\n",
    "        case = \"unstable_weak\"   # Case to run comparison\n",
    "\n",
    "# Initialize the 'data' and the 'model'\n",
    "datadir = joinpath(\"..\", \"data\", \"perfect_model_experiment\")\n",
    "filepath = joinpath(datadir, case * \".jld2\")\n",
    "data = ColumnData(filepath; initial=initial_data, targets=target_data)\n",
    "model = KPPOptimization.ColumnModel(data, model_dt, N=model_N)\n",
    "\n",
    "# Pick a set of parameters to optimize\n",
    "defaults = DefaultFreeParameters(BasicParameters)\n",
    "\n",
    "println(\"We will optimize the following parameters:\")\n",
    "@show propertynames(defaults);"
   ]
  },
  {
   "cell_type": "markdown",
   "metadata": {},
   "source": [
    "# Loss function definition\n",
    "\n",
    "Our optimization strategy uses a 'composite' loss function constructed from error estimates for each field.\n",
    "For a field $\\Phi$ and case $i$, the loss function for a given parameter vector $\\boldsymbol{C}$ is defined\n",
    "\n",
    "$$ \\mathcal{L}^i_\\Phi(\\boldsymbol{C}) = \\int_{t_0}^{t_1}  \\mathrm{d} t \\sqrt{\\int_{-L_z}^0 \\mathrm{d} z \\left ( \\Phi_\\mathrm{model} - \\Phi_\\mathrm{data} \\right )^2 }$$\n",
    "\n",
    "The total loss function for a case $i$ is then constructed from\n",
    "\n",
    "$$ \\mathcal{L}^i(\\boldsymbol{C}) = \\sum_{\\Phi} \\mathcal{W}_\\Phi \\mathcal{L}^i_\\Phi(\\boldsymbol{C}) \\, , $$\n",
    "\n",
    "In this notebook we only consider a single case. \n",
    "However, with multiple cases (representing different physical scenarios, flux conditions, initial conditions, *et cetera*), the value of the composite loss function is, finally\n",
    "\n",
    "$$ \\mathcal{L}(\\boldsymbol{C}) = \\sum_i \\mathcal{L}^i(\\boldsymbol{C}) $$\n",
    "\n",
    "where $\\mathcal{W}_\\Phi$ essentially non-dimensionalizes the error associated with the comparison of different fields such as velocity $U$ or temperature $T$.\n",
    "\n",
    "Below, we deduce the appropriate $\\mathcal{W}_\\Phi$ for our problem based on the velocity- and temperature-specific error assocaited with our initial (perfect) parameter choices.\n",
    "\n",
    "Note that the object `MarkovLink` stores `(parameter, error)` pairs for a given parameter vector and `NegativeLogLikelihood` function. "
   ]
  },
  {
   "cell_type": "code",
   "execution_count": 11,
   "metadata": {},
   "outputs": [
    {
     "name": "stdout",
     "output_type": "stream",
     "text": [
      "error_ratio = test_link_velocity.error / test_link_temperature.error = 6.290572515193099\n",
      "weights = (1, 1, 10 * round(Int, error_ratio / 10), 0) = (1, 1, 10, 0)\n"
     ]
    }
   ],
   "source": [
    "# Obtain an estimate of the relative error in the temperature and velocity fields\n",
    "test_nll_temperature = NegativeLogLikelihood(model, data, temperature_loss)\n",
    "   test_nll_velocity = NegativeLogLikelihood(model, data, velocity_loss)\n",
    "\n",
    "# Calculate error\n",
    "test_link_temperature = MarkovLink(test_nll_temperature, defaults)\n",
    "   test_link_velocity = MarkovLink(test_nll_velocity, defaults)\n",
    "\n",
    "@show error_ratio = test_link_velocity.error / test_link_temperature.error\n",
    "\n",
    "# Build the weighted NLL, normalizing temperature error relative to velocity error.\n",
    "@show weights = (1, 1, 10*round(Int, error_ratio/10), 0)\n",
    "\n",
    "nll = NegativeLogLikelihood(model, data, weighted_fields_loss, weights=weights);"
   ]
  },
  {
   "cell_type": "markdown",
   "metadata": {},
   "source": [
    "# Specification of Markov Chain Monte Carlo parameters\n",
    "\n",
    "Next we demonstrate how to set up a Markov Chain Monte Carlo (MCMC) sampler.\n",
    "Currently, we are only able to use the 'Hastings-Metropolis' algorithm -- a simple \n",
    "algorithm based on normally-distributed random perturbations.\n",
    "\n",
    "The algorithm consists of three steps:\n",
    "\n",
    "1. Generate a set of proposal parameters by normally perturbing the current parameters.\n",
    "2. Evaluate the Negative Log Likelihood for the proposed parameters.\n",
    "3. Decide whether to 'accept' the proposed parameters as the new current parameters on the criterion:\n",
    "\n",
    "```julia\n",
    "accept(proposal, current, scale) = current.error - proposal.error > scale * log(rand(Uniform(0, 1)))\n",
    "```\n",
    "\n",
    "The code for this algorithm is:\n",
    "\n",
    "```julia\n",
    "accepted = 0\n",
    "for i = 1:nlinks\n",
    "    proposal = MarkovLink(nll, sampler.perturb(current.param))\n",
    "    current = ifelse(accept(proposal, current, nll.scale), proposal, current)\n",
    "    push!(links, proposal)\n",
    "    if current === proposal\n",
    "        accepted += 1\n",
    "        push!(path, i)\n",
    "    else\n",
    "        @inbounds push!(path, path[end])\n",
    "    end\n",
    "end\n",
    "```\n",
    "\n",
    "That's it.\n",
    "\n",
    "The two parameters in the MCMC algorithm are thus the 'scale' of the specified Negative Log Likelihood function, and the standard deviation of the random perturbations that generate proposal parameter sets.\n",
    "\n",
    "Below we set the error scale to $\\tfrac{1}{2}$ the error associated with the initial parameter choices. \n",
    "Note that a smaller error scale leads to a higher acceptance rate.\n",
    "We also fix the standard deviation of the random perturbations at 5\\% of the initial parameter values."
   ]
  },
  {
   "cell_type": "code",
   "execution_count": 12,
   "metadata": {},
   "outputs": [
    {
     "name": "stdout",
     "output_type": "stream",
     "text": [
      "nll.scale = first_link.error * 0.5 = 0.008473015501915086\n",
      "chain.acceptance = 0.87\n"
     ]
    },
    {
     "data": {
      "text/plain": [
       "0.87"
      ]
     },
     "execution_count": 12,
     "metadata": {},
     "output_type": "execute_result"
    }
   ],
   "source": [
    "# Obtain the first link in the Markov chain\n",
    "first_link = MarkovLink(nll, defaults)\n",
    "@show nll.scale = first_link.error * 0.5 \n",
    "\n",
    "# Use a normal perturbation with standard deviation set to 5% of default values\n",
    "std = DefaultStdFreeParameters(0.05, typeof(defaults))\n",
    "sampler = MetropolisSampler(NormalPerturbation(std))\n",
    "\n",
    "ninit = 10^2\n",
    "chain = MarkovChain(ninit, first_link, nll, sampler)\n",
    "@show chain.acceptance "
   ]
  },
  {
   "cell_type": "markdown",
   "metadata": {},
   "source": [
    "# Collecting samples\n",
    "\n",
    "Finally, we collect samples and save the data. \n",
    "Fortunately, `JLD2` is able to save the entire Markov chain as a single object with no issues."
   ]
  },
  {
   "cell_type": "code",
   "execution_count": 13,
   "metadata": {},
   "outputs": [
    {
     "name": "stdout",
     "output_type": "stream",
     "text": [
      "tᵢ: 6.13 seconds. Elapsed wall time: 0.1052 minutes.\n",
      "First, optimal, and last links:\n",
      "(0.016946031003830173, [0.3, 4.32, 6.33, 0.4, 2.0, 6.4, 0.599, 1.36, 0.5, 2.5])\n",
      "(0.009129877759768668, [0.149149, 14.7253, 4.49359, 0.372537, 2.34237, 15.412, 0.264218, 3.80903, 0.0982459, 5.55969])\n",
      "(0.013594107012545245, [0.12174, 16.9578, 6.14141, 0.342488, 4.65758, 17.3954, 0.806114, 4.78111, 0.0619675, 7.28097])\n",
      " \n",
      "               length | 1100\n",
      "           acceptance | 0.824545455\n",
      " initial scaled error | 2.000000000\n",
      " optimal scaled error | 1.077524024\n",
      "\n",
      "tᵢ: 6.00 seconds. Elapsed wall time: 0.2086 minutes.\n",
      "First, optimal, and last links:\n",
      "(0.016946031003830173, [0.3, 4.32, 6.33, 0.4, 2.0, 6.4, 0.599, 1.36, 0.5, 2.5])\n",
      "(0.009129877759768668, [0.149149, 14.7253, 4.49359, 0.372537, 2.34237, 15.412, 0.264218, 3.80903, 0.0982459, 5.55969])\n",
      "(0.014214405743991833, [0.131329, 13.7006, 2.69985, 0.392087, 5.63164, 16.7019, 1.59188, 3.86147, 0.0748555, 3.45431])\n",
      " \n",
      "               length | 2100\n",
      "           acceptance | 0.805714286\n",
      " initial scaled error | 2.000000000\n",
      " optimal scaled error | 1.077524024\n",
      "\n",
      "tᵢ: 5.84 seconds. Elapsed wall time: 0.3060 minutes.\n",
      "First, optimal, and last links:\n",
      "(0.016946031003830173, [0.3, 4.32, 6.33, 0.4, 2.0, 6.4, 0.599, 1.36, 0.5, 2.5])\n",
      "(0.009030199214757399, [0.151341, 14.5737, 2.55278, 0.373059, 8.71114, 20.4511, 1.70602, 3.65345, 0.423496, 0.0965667])\n",
      "(0.026432965637440197, [0.218616, 12.2132, 3.75324, 0.350447, 7.835, 24.3898, 1.75044, 5.54714, 0.67358, 4.47675])\n",
      " \n",
      "               length | 3100\n",
      "           acceptance | 0.791290323\n",
      " initial scaled error | 2.000000000\n",
      " optimal scaled error | 1.065759789\n",
      "\n",
      "tᵢ: 6.11 seconds. Elapsed wall time: 0.4081 minutes.\n",
      "First, optimal, and last links:\n",
      "(0.016946031003830173, [0.3, 4.32, 6.33, 0.4, 2.0, 6.4, 0.599, 1.36, 0.5, 2.5])\n",
      "(0.009030199214757399, [0.151341, 14.5737, 2.55278, 0.373059, 8.71114, 20.4511, 1.70602, 3.65345, 0.423496, 0.0965667])\n",
      "(0.050907982747470736, [0.117413, 4.07002, 8.98852, 0.770503, 10.1034, 23.9509, 2.68545, 6.51217, 0.977462, 5.37984])\n",
      " \n",
      "               length | 4100\n",
      "           acceptance | 0.801463415\n",
      " initial scaled error | 2.000000000\n",
      " optimal scaled error | 1.065759789\n",
      "\n"
     ]
    }
   ],
   "source": [
    "dsave = 10^3\n",
    "chainname = \"test_markov_chain\"\n",
    "chainpath = \"$chainname.jld2\"\n",
    "@save chainpath chain\n",
    "\n",
    "tstart = time()\n",
    "for i = 1:4\n",
    "    tint = @elapsed extend!(chain, dsave)\n",
    "\n",
    "    @printf(\"tᵢ: %.2f seconds. Elapsed wall time: %.4f minutes.\\n\\n\", tint, (time() - tstart)/60)\n",
    "    @printf(\"First, optimal, and last links:\\n\")\n",
    "    println((chain[1].error, chain[1].param))\n",
    "    println((optimal(chain).error, optimal(chain).param))\n",
    "    println((chain[end].error, chain[end].param))\n",
    "    println(\" \")\n",
    "\n",
    "    println(status(chain))\n",
    "\n",
    "    oldchainpath = chainname * \"_old.jld2\"\n",
    "    mv(chainpath, oldchainpath, force=true)\n",
    "    @save chainpath chain\n",
    "    rm(oldchainpath)\n",
    "end"
   ]
  },
  {
   "cell_type": "code",
   "execution_count": null,
   "metadata": {},
   "outputs": [],
   "source": []
  }
 ],
 "metadata": {
  "kernelspec": {
   "display_name": "Julia 1.1.0",
   "language": "julia",
   "name": "julia-1.1"
  },
  "language_info": {
   "file_extension": ".jl",
   "mimetype": "application/julia",
   "name": "julia",
   "version": "1.1.0"
  }
 },
 "nbformat": 4,
 "nbformat_minor": 2
}
