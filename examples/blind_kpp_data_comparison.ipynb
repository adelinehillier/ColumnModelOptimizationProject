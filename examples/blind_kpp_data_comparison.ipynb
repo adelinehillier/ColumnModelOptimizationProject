{
 "cells": [
  {
   "cell_type": "markdown",
   "metadata": {},
   "source": [
    "# Comparison of stock KPP with LES for 4 canonical cases\n",
    "\n",
    "In this notebook we compare out-of-the-box KPP with LES data for the four canonical cases:\n",
    "\n",
    "1. Free convection\n",
    "2. Wind-driven shear mixing with neutral buoyancy forcing\n",
    "3. Wind-driven shear mixing with destabilizing buoyancy forcing\n",
    "4. Wind-driven shear mixing with stabilizing buoyancy forcing"
   ]
  },
  {
   "cell_type": "code",
   "execution_count": 3,
   "metadata": {},
   "outputs": [],
   "source": [
    "using Pkg; Pkg.activate(\"..\")\n",
    "\n",
    "using \n",
    "    ColumnModelOptimizationProject, \n",
    "    ColumnModelOptimizationProject.KPPOptimization,\n",
    "    OceanTurb,\n",
    "    Printf\n",
    "\n",
    "cases = [\"free_convection\", \"shear_neutral\", \"shear_unstable\", \"shear_stable\"]\n",
    "\n",
    "datadir = joinpath(\"..\", \"data\", \"idealized\")\n",
    "dirs = Dict((c, joinpath(datadir, c)) for c in cases)\n",
    "\n",
    "examples = Dict(\n",
    "    \"free_convection\" => \"wind_stress_N256_tau0_Q-75_dTdz0.01_k0.0001_dt0.25_days6_timeseries.jld2\",\n",
    "    \"shear_neutral\"   => \"wind_stress_N256_tau0.1_Q0_dTdz0.001_k0.0001_dt0.25_days6_timeseries.jld2\",\n",
    "    \"shear_unstable\"  => \"wind_stress_N256_tau0.1_Q-75_dTdz0.01_k0.0001_dt0.25_days6_timeseries.jld2\",\n",
    "    \"shear_stable\"    => \"wind_stress_N256_tau0.04_Q10_dTdz0.01_k0.0001_dt0.25_days6_timeseries.jld2\" )\n",
    "\n",
    "examplepaths = Dict((c, joinpath(dirs[c], examples[c])) for c in cases);"
   ]
  },
  {
   "cell_type": "code",
   "execution_count": 4,
   "metadata": {},
   "outputs": [
    {
     "ename": "MethodError",
     "evalue": "MethodError: no method matching set!(::ColumnModel{OceanTurb.KPP.Model{BackwardEulerTimestepper{OceanTurb.KPP.Solution{Array{Float64,1},UniformGrid{Float64,StepRangeLen{Float64,Base.TwicePrecision{Float64},Base.TwicePrecision{Float64}}},Float64},Array{LinearAlgebra.Tridiagonal{Float64,Array{Float64,1}},1},OceanTurb.KPP.Accessory{Function},OceanTurb.KPP.Accessory{Function}},UniformGrid{Float64,StepRangeLen{Float64,Base.TwicePrecision{Float64},Base.TwicePrecision{Float64}}},Float64},Float64}, ::ShearNeutralParameters{Float64})\nClosest candidates are:\n  set!(!Matched::Nothing, ::Any...) at /Users/gregorywagner/Projects/ColumnModelOptimizationProject.jl/src/ColumnModelOptimizationProject.jl:41",
     "output_type": "error",
     "traceback": [
      "MethodError: no method matching set!(::ColumnModel{OceanTurb.KPP.Model{BackwardEulerTimestepper{OceanTurb.KPP.Solution{Array{Float64,1},UniformGrid{Float64,StepRangeLen{Float64,Base.TwicePrecision{Float64},Base.TwicePrecision{Float64}}},Float64},Array{LinearAlgebra.Tridiagonal{Float64,Array{Float64,1}},1},OceanTurb.KPP.Accessory{Function},OceanTurb.KPP.Accessory{Function}},UniformGrid{Float64,StepRangeLen{Float64,Base.TwicePrecision{Float64},Base.TwicePrecision{Float64}}},Float64},Float64}, ::ShearNeutralParameters{Float64})\nClosest candidates are:\n  set!(!Matched::Nothing, ::Any...) at /Users/gregorywagner/Projects/ColumnModelOptimizationProject.jl/src/ColumnModelOptimizationProject.jl:41",
      "",
      "Stacktrace:",
      " [1] #visualize_realization#23(::Tuple{Int64,Int64}, ::String, ::String, ::Dict{Any,Any}, ::Dict{Any,Any}, ::Dict{Any,Any}, ::Function, ::ShearNeutralParameters{Float64}, ::ColumnModel{OceanTurb.KPP.Model{BackwardEulerTimestepper{OceanTurb.KPP.Solution{Array{Float64,1},UniformGrid{Float64,StepRangeLen{Float64,Base.TwicePrecision{Float64},Base.TwicePrecision{Float64}}},Float64},Array{LinearAlgebra.Tridiagonal{Float64,Array{Float64,1}},1},OceanTurb.KPP.Accessory{Function},OceanTurb.KPP.Accessory{Function}},UniformGrid{Float64,StepRangeLen{Float64,Base.TwicePrecision{Float64},Base.TwicePrecision{Float64}}},Float64},Float64}, ::ColumnData{Float64,UniformGrid{Float64,StepRangeLen{Float64,Base.TwicePrecision{Float64},Base.TwicePrecision{Float64}}},Constants{Float64},CellField{Array{Float64,1},UniformGrid{Float64,StepRangeLen{Float64,Base.TwicePrecision{Float64},Base.TwicePrecision{Float64}}},Float64},3}) at /Users/gregorywagner/Projects/ColumnModelOptimizationProject.jl/src/visualization.jl:27",
      " [2] visualize_realization(::ShearNeutralParameters{Float64}, ::ColumnModel{OceanTurb.KPP.Model{BackwardEulerTimestepper{OceanTurb.KPP.Solution{Array{Float64,1},UniformGrid{Float64,StepRangeLen{Float64,Base.TwicePrecision{Float64},Base.TwicePrecision{Float64}}},Float64},Array{LinearAlgebra.Tridiagonal{Float64,Array{Float64,1}},1},OceanTurb.KPP.Accessory{Function},OceanTurb.KPP.Accessory{Function}},UniformGrid{Float64,StepRangeLen{Float64,Base.TwicePrecision{Float64},Base.TwicePrecision{Float64}}},Float64},Float64}, ::ColumnData{Float64,UniformGrid{Float64,StepRangeLen{Float64,Base.TwicePrecision{Float64},Base.TwicePrecision{Float64}}},Constants{Float64},CellField{Array{Float64,1},UniformGrid{Float64,StepRangeLen{Float64,Base.TwicePrecision{Float64},Base.TwicePrecision{Float64}}},Float64},3}) at /Users/gregorywagner/Projects/ColumnModelOptimizationProject.jl/src/visualization.jl:14",
      " [3] top-level scope at ./In[4]:8"
     ]
    }
   ],
   "source": [
    "for N in [10, 20, 50, 100, 200]\n",
    "    for case in cases\n",
    "        \n",
    "        column_data = ColumnData(examplepaths[case]; targets=(12, 22, 32))\n",
    "        column_model = KPPOptimization.ColumnModel(column_data, 10*minute, N=N)\n",
    "        default_params = DefaultFreeParameters(ShearNeutralParameters)\n",
    "\n",
    "        fig, axs = visualize_realization(default_params, column_model, column_data)\n",
    "        fig.suptitle(replace(case, \"_\" => \" \") * @sprintf(\" with \\$ N = %d \\$\", N))\n",
    "        fig.show()\n",
    "        \n",
    "        fig.tight_layout()\n",
    "        fig.savefig(joinpath(\"..\", \"assets\", case * \"_kpp_les_comparison_N$N.png\"), dpi=480)\n",
    "    end\n",
    "end"
   ]
  },
  {
   "cell_type": "code",
   "execution_count": null,
   "metadata": {},
   "outputs": [],
   "source": []
  },
  {
   "cell_type": "code",
   "execution_count": null,
   "metadata": {},
   "outputs": [],
   "source": []
  }
 ],
 "metadata": {
  "kernelspec": {
   "display_name": "Julia 1.1.0",
   "language": "julia",
   "name": "julia-1.1"
  },
  "language_info": {
   "file_extension": ".jl",
   "mimetype": "application/julia",
   "name": "julia",
   "version": "1.0.1"
  }
 },
 "nbformat": 4,
 "nbformat_minor": 2
}
